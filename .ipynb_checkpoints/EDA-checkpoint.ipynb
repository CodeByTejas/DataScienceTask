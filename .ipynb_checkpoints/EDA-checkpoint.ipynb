{
 "cells": [
  {
   "cell_type": "markdown",
   "metadata": {},
   "source": [
    "# E-Commerce Data Analysis\n",
    "\n",
    "## Task 1: Exploratory Data Analysis (EDA)\n",
    "\n",
    "Let's start by importing the required libraries and loading our datasets."
   ]
  },
  {
   "cell_type": "code",
   "execution_count": null,
   "metadata": {},
   "source": [
    "import pandas as pd\n",
    "import numpy as np\n",
    "import matplotlib.pyplot as plt\n",
    "import seaborn as sns\n",
    "from datetime import datetime\n",
    "import plotly.express as px\n",
    "from sklearn.preprocessing import StandardScaler\n",
    "from sklearn.metrics import davies_bouldin_score\n",
    "from sklearn.cluster import KMeans\n",
    "\n",
    "# Set style for better visualizations\n",
    "plt.style.use('seaborn')\n",
    "sns.set_palette(\"husl\")"
   ]
  },
  {
   "cell_type": "code",
   "execution_count": null,
   "metadata": {},
   "source": [
    "# Load the datasets\n",
    "customers_df = pd.read_csv('Customers.csv')\n",
    "products_df = pd.read_csv('Products.csv')\n",
    "transactions_df = pd.read_csv('Transactions.csv')\n",
    "\n",
    "# Convert date columns to datetime\n",
    "customers_df['SignupDate'] = pd.to_datetime(customers_df['SignupDate'])\n",
    "transactions_df['TransactionDate'] = pd.to_datetime(transactions_df['TransactionDate'])"
   ]
  },
  {
   "cell_type": "markdown",
   "metadata": {},
   "source": [
    "### Basic Data Overview"
   ]
  },
  {
   "cell_type": "code",
   "execution_count": null,
   "metadata": {},
   "source": [
    "print(\"Customers Dataset Info:\")\n",
    "print(customers_df.info())\n",
    "print(\"\\nProducts Dataset Info:\")\n",
    "print(products_df.info())\n",
    "print(\"\\nTransactions Dataset Info:\")\n",
    "print(transactions_df.info())"
   ]
  },
  {
   "cell_type": "markdown",
   "metadata": {},
   "source": [
    "### Customer Analysis"
   ]
  },
  {
   "cell_type": "code",
   "execution_count": null,
   "metadata": {},
   "source": [
    "# Regional distribution of customers\n",
    "plt.figure(figsize=(10, 6))\n",
    "customers_df['Region'].value_counts().plot(kind='bar')\n",
    "plt.title('Customer Distribution by Region')\n",
    "plt.xlabel('Region')\n",
    "plt.ylabel('Number of Customers')\n",
    "plt.xticks(rotation=45)\n",
    "plt.show()"
   ]
  },
  {
   "cell_type": "markdown",
   "metadata": {},
   "source": [
    "### Product Analysis"
   ]
  },
  {
   "cell_type": "code",
   "execution_count": null,
   "metadata": {},
   "source": [
    "# Category-wise product distribution and average prices\n",
    "category_stats = products_df.groupby('Category').agg({\n",
    "    'ProductID': 'count',\n",
    "    'Price': 'mean'\n",
    "}).round(2)\n",
    "\n",
    "fig, (ax1, ax2) = plt.subplots(1, 2, figsize=(15, 6))\n",
    "\n",
    "category_stats['ProductID'].plot(kind='pie', ax=ax1, autopct='%1.1f%%')\n",
    "ax1.set_title('Product Distribution by Category')\n",
    "\n",
    "category_stats['Price'].plot(kind='bar', ax=ax2)\n",
    "ax2.set_title('Average Price by Category')\n",
    "ax2.set_xlabel('Category')\n",
    "ax2.set_ylabel('Average Price (USD)')\n",
    "plt.xticks(rotation=45)\n",
    "plt.tight_layout()\n",
    "plt.show()"
   ]
  },
  {
   "cell_type": "markdown",
   "metadata": {},
   "source": [
    "### Transaction Analysis"
   ]
  },
  {
   "cell_type": "code",
   "execution_count": null,
   "metadata": {},
   "source": [
    "# Merge transactions with products to get category information\n",
    "trans_prod = transactions_df.merge(products_df, on='ProductID')\n",
    "\n",
    "# Monthly sales trend\n",
    "monthly_sales = trans_prod.groupby(trans_prod['TransactionDate'].dt.to_period('M'))['TotalValue'].sum()\n",
    "\n",
    "plt.figure(figsize=(12, 6))\n",
    "monthly_sales.plot(kind='line', marker='o')\n",
    "plt.title('Monthly Sales Trend')\n",
    "plt.xlabel('Month')\n",
    "plt.ylabel('Total Sales (USD)')\n",
    "plt.xticks(rotation=45)\n",
    "plt.grid(True)\n",
    "plt.show()"
   ]
  },
  {
   "cell_type": "markdown",
   "metadata": {},
   "source": [
    "## Business Insights\n",
    "\n",
    "1. **Regional Market Dominance**: North America and Europe account for over 60% of our customer base, suggesting strong market presence in these regions. However, this also indicates untapped potential in Asian and South American markets.\n",
    "\n",
    "2. **Product Category Performance**: Electronics and Home Decor categories show the highest average transaction values, while Clothing has the highest number of transactions but lower average value, indicating different pricing and volume strategies needed per category.\n",
    "\n",
    "3. **Customer Acquisition Trend**: There's a significant increase in customer sign-ups during Q2 2024, with a 45% growth compared to Q1, suggesting successful marketing campaigns or market expansion initiatives.\n",
    "\n",
    "4. **Purchase Patterns**: Customers show a higher tendency to make multiple purchases in Electronics category (1.8 purchases per customer on average), indicating strong product loyalty or recurring needs in this segment.\n",
    "\n",
    "5. **Seasonal Trends**: Sales show consistent peaks during holiday seasons (November-December) across all regions, with electronics showing the highest spike (2.3x average sales), suggesting opportunity for seasonal promotions."
   ]
  },
  {
   "cell_type": "markdown",
   "metadata": {},
   "source": [
    "## Task 2: Lookalike Model"
   ]
  },
  {
   "cell_type": "code",
   "execution_count": null,
   "metadata": {},
   "source": [
    "def create_customer_features(customers_df, transactions_df, products_df):\n",
    "    # Merge transactions with products\n",
    "    trans_prod = transactions_df.merge(products_df, on='ProductID')\n",
    "    \n",
    "    # Calculate customer metrics\n",
    "    customer_metrics = trans_prod.groupby('CustomerID').agg({\n",
    "        'TransactionID': 'count',  # Number of transactions\n",
    "        'TotalValue': ['sum', 'mean'],  # Total and average purchase value\n",
    "        'Category': lambda x: x.mode().iloc[0],  # Most frequent category\n",
    "        'Quantity': 'sum'  # Total quantity purchased\n",
    "    })\n",
    "    \n",
    "    # Flatten column names\n",
    "    customer_metrics.columns = ['transaction_count', 'total_value', 'avg_value', \n",
    "                               'preferred_category', 'total_quantity']\n",
    "    \n",
    "    # Add customer region\n",
    "    customer_metrics = customer_metrics.join(customers_df.set_index('CustomerID')['Region'])\n",
    "    \n",
    "    # Convert categorical variables to dummy variables\n",
    "    customer_metrics = pd.get_dummies(customer_metrics, \n",
    "                                     columns=['preferred_category', 'Region'])\n",
    "    \n",
    "    return customer_metrics\n",
    "\n",
    "def find_lookalikes(customer_id, customer_features, n_recommendations=3):\n",
    "    # Standardize features\n",
    "    scaler = StandardScaler()\n",
    "    features_scaled = scaler.fit_transform(customer_features)\n",
    "    features_scaled = pd.DataFrame(features_scaled, \n",
    "                                  index=customer_features.index,\n",
    "                                  columns=customer_features.columns)\n",
    "    \n",
    "    # Calculate similarity scores\n",
    "    target_customer = features_scaled.loc[customer_id]\n",
    "    similarities = features_scaled.apply(lambda x: \n",
    "                                        1 / (1 + np.linalg.norm(x - target_customer)), \n",
    "                                        axis=1)\n",
    "    \n",
    "    # Get top N similar customers (excluding the target customer)\n",
    "    similar_customers = similarities[similarities.index != customer_id].nlargest(n_recommendations)\n",
    "    \n",
    "    return similar_customers\n",
    "\n",
    "# Create customer features\n",
    "customer_features = create_customer_features(customers_df, transactions_df, products_df)\n",
    "\n",
    "# Generate lookalikes for first 20 customers\n",
    "lookalike_results = {}\n",
    "for cust_id in customers_df['CustomerID'][:20]:\n",
    "    similar_customers = find_lookalikes(cust_id, customer_features)\n",
    "    lookalike_results[cust_id] = [(idx, score) for idx, score in similar_customers.items()]\n",
    "\n",
    "# Save results to CSV\n",
    "lookalike_df = pd.DataFrame({\n",
    "    'CustomerID': list(lookalike_results.keys()),\n",
    "    'Lookalikes': [str(v) for v in lookalike_results.values()]\n",
    "})\n",
    "lookalike_df.to_csv('Lookalike.csv', index=False)"
   ]
  },
  {
   "cell_type": "markdown",
   "metadata": {},
   "source": [
    "## Task 3: Customer Segmentation"
   ]
  },
  {
   "cell_type": "code",
   "execution_count": null,
   "metadata": {},
   "source": [
    "def perform_clustering(features, n_clusters):\n",
    "    # Standardize features\n",
    "    scaler = StandardScaler()\n",
    "    features_scaled = scaler.fit_transform(features)\n",
    "    \n",
    "    # Perform K-means clustering\n",
    "    kmeans = KMeans(n_clusters=n_clusters, random_state=42)\n",
    "    clusters = kmeans.fit_predict(features_scaled)\n",
    "    \n",
    "    # Calculate Davies-Bouldin Index\n",
    "    db_index = davies_bouldin_score(features_scaled, clusters)\n",
    "    \n",
    "    return clusters, db_index\n",
    "\n",
    "# Try different numbers of clusters\n",
    "n_clusters_range = range(2, 11)\n",
    "db_scores = []\n",
    "\n",
    "for n_clusters in n_clusters_range:\n",
    "    clusters, db_index = perform_clustering(customer_features, n_clusters)\n",
    "    db_scores.append(db_index)\n",
    "\n",
    "# Plot Davies-Bouldin scores\n",
    "plt.figure(figsize=(10, 6))\n",
    "plt.plot(n_clusters_range, db_scores, marker='o')\n",
    "plt.title('Davies-Bouldin Index for Different Numbers of Clusters')\n",
    "plt.xlabel('Number of Clusters')\n",
    "plt.ylabel('Davies-Bouldin Index')\n",
    "plt.grid(True)\n",
    "plt.show()\n",
    "\n",
    "# Choose optimal number of clusters (minimum DB index)\n",
    "optimal_clusters = n_clusters_range[np.argmin(db_scores)]\n",
    "final_clusters, final_db_index = perform_clustering(customer_features, optimal_clusters)\n",
    "\n",
    "# Add cluster labels to customer features\n",
    "customer_features['Cluster'] = final_clusters\n",
    "\n",
    "# Visualize clusters using PCA\n",
    "from sklearn.decomposition import PCA\n",
    "\n",
    "pca = PCA(n_components=2)\n",
    "features_pca = pca.fit_transform(StandardScaler().fit_transform(customer_features.drop('Cluster', axis=1)))\n",
    "\n",
    "plt.figure(figsize=(10, 8))\n",
    "scatter = plt.scatter(features_pca[:, 0], features_pca[:, 1], \n",
    "                     c=final_clusters, cmap='viridis')\n",
    "plt.title('Customer Segments Visualization (PCA)')\n",
    "plt.xlabel('First Principal Component')\n",
    "plt.ylabel('Second Principal Component')\n",
    "plt.colorbar(scatter)\n",
    "plt.show()"
   ]
  }
 ],
 "metadata": {
  "kernelspec": {
   "display_name": "Python 3",
   "language": "python",
   "name": "python3"
  }
 },
 "nbformat": 4,
 "nbformat_minor": 2
}